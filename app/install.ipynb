{
 "cells": [
  {
   "cell_type": "code",
   "execution_count": 4,
   "metadata": {},
   "outputs": [
    {
     "name": "stdout",
     "output_type": "stream",
     "text": [
      "Requirement already satisfied: langserve in c:\\conda\\envs\\aicc_pj02\\lib\\site-packages (0.3.0)\n",
      "Requirement already satisfied: httpx<1.0,>=0.23.0 in c:\\conda\\envs\\aicc_pj02\\lib\\site-packages (from langserve) (0.27.2)\n",
      "Requirement already satisfied: langchain-core<0.4,>=0.3 in c:\\conda\\envs\\aicc_pj02\\lib\\site-packages (from langserve) (0.3.14)\n",
      "Requirement already satisfied: orjson<4,>=2 in c:\\conda\\envs\\aicc_pj02\\lib\\site-packages (from langserve) (3.10.7)\n",
      "Requirement already satisfied: pydantic<3.0,>=2.7 in c:\\conda\\envs\\aicc_pj02\\lib\\site-packages (from langserve) (2.9.0b2)\n",
      "Requirement already satisfied: anyio in c:\\conda\\envs\\aicc_pj02\\lib\\site-packages (from httpx<1.0,>=0.23.0->langserve) (4.4.0)\n",
      "Requirement already satisfied: certifi in c:\\conda\\envs\\aicc_pj02\\lib\\site-packages (from httpx<1.0,>=0.23.0->langserve) (2024.8.30)\n",
      "Requirement already satisfied: httpcore==1.* in c:\\conda\\envs\\aicc_pj02\\lib\\site-packages (from httpx<1.0,>=0.23.0->langserve) (1.0.5)\n",
      "Requirement already satisfied: idna in c:\\conda\\envs\\aicc_pj02\\lib\\site-packages (from httpx<1.0,>=0.23.0->langserve) (3.8)\n",
      "Requirement already satisfied: sniffio in c:\\conda\\envs\\aicc_pj02\\lib\\site-packages (from httpx<1.0,>=0.23.0->langserve) (1.3.1)\n",
      "Requirement already satisfied: h11<0.15,>=0.13 in c:\\conda\\envs\\aicc_pj02\\lib\\site-packages (from httpcore==1.*->httpx<1.0,>=0.23.0->langserve) (0.14.0)\n",
      "Requirement already satisfied: PyYAML>=5.3 in c:\\conda\\envs\\aicc_pj02\\lib\\site-packages (from langchain-core<0.4,>=0.3->langserve) (6.0.2)\n",
      "Requirement already satisfied: jsonpatch<2.0,>=1.33 in c:\\conda\\envs\\aicc_pj02\\lib\\site-packages (from langchain-core<0.4,>=0.3->langserve) (1.33)\n",
      "Requirement already satisfied: langsmith<0.2.0,>=0.1.125 in c:\\conda\\envs\\aicc_pj02\\lib\\site-packages (from langchain-core<0.4,>=0.3->langserve) (0.1.138)\n",
      "Requirement already satisfied: packaging<25,>=23.2 in c:\\conda\\envs\\aicc_pj02\\lib\\site-packages (from langchain-core<0.4,>=0.3->langserve) (24.1)\n",
      "Requirement already satisfied: tenacity!=8.4.0,<10.0.0,>=8.1.0 in c:\\conda\\envs\\aicc_pj02\\lib\\site-packages (from langchain-core<0.4,>=0.3->langserve) (8.3.0)\n",
      "Requirement already satisfied: typing-extensions>=4.7 in c:\\conda\\envs\\aicc_pj02\\lib\\site-packages (from langchain-core<0.4,>=0.3->langserve) (4.12.2)\n",
      "Requirement already satisfied: annotated-types>=0.4.0 in c:\\conda\\envs\\aicc_pj02\\lib\\site-packages (from pydantic<3.0,>=2.7->langserve) (0.7.0)\n",
      "Requirement already satisfied: pydantic-core==2.23.1 in c:\\conda\\envs\\aicc_pj02\\lib\\site-packages (from pydantic<3.0,>=2.7->langserve) (2.23.1)\n",
      "Requirement already satisfied: tzdata in c:\\conda\\envs\\aicc_pj02\\lib\\site-packages (from pydantic<3.0,>=2.7->langserve) (2024.1)\n",
      "Requirement already satisfied: jsonpointer>=1.9 in c:\\conda\\envs\\aicc_pj02\\lib\\site-packages (from jsonpatch<2.0,>=1.33->langchain-core<0.4,>=0.3->langserve) (3.0.0)\n",
      "Requirement already satisfied: requests<3,>=2 in c:\\conda\\envs\\aicc_pj02\\lib\\site-packages (from langsmith<0.2.0,>=0.1.125->langchain-core<0.4,>=0.3->langserve) (2.32.3)\n",
      "Requirement already satisfied: requests-toolbelt<2.0.0,>=1.0.0 in c:\\conda\\envs\\aicc_pj02\\lib\\site-packages (from langsmith<0.2.0,>=0.1.125->langchain-core<0.4,>=0.3->langserve) (1.0.0)\n",
      "Requirement already satisfied: charset-normalizer<4,>=2 in c:\\conda\\envs\\aicc_pj02\\lib\\site-packages (from requests<3,>=2->langsmith<0.2.0,>=0.1.125->langchain-core<0.4,>=0.3->langserve) (3.3.2)\n",
      "Requirement already satisfied: urllib3<3,>=1.21.1 in c:\\conda\\envs\\aicc_pj02\\lib\\site-packages (from requests<3,>=2->langsmith<0.2.0,>=0.1.125->langchain-core<0.4,>=0.3->langserve) (2.2.2)\n"
     ]
    }
   ],
   "source": [
    "!pip install --upgrade langserve"
   ]
  },
  {
   "cell_type": "code",
   "execution_count": 1,
   "metadata": {},
   "outputs": [
    {
     "name": "stdout",
     "output_type": "stream",
     "text": [
      "Requirement already satisfied: fastapi in c:\\conda\\envs\\aicc_pj02\\lib\\site-packages (0.112.2)\n",
      "Requirement already satisfied: starlette<0.39.0,>=0.37.2 in c:\\conda\\envs\\aicc_pj02\\lib\\site-packages (from fastapi) (0.38.2)\n",
      "Requirement already satisfied: pydantic!=1.8,!=1.8.1,!=2.0.0,!=2.0.1,!=2.1.0,<3.0.0,>=1.7.4 in c:\\conda\\envs\\aicc_pj02\\lib\\site-packages (from fastapi) (2.9.0b2)\n",
      "Requirement already satisfied: typing-extensions>=4.8.0 in c:\\conda\\envs\\aicc_pj02\\lib\\site-packages (from fastapi) (4.12.2)\n",
      "Requirement already satisfied: annotated-types>=0.4.0 in c:\\conda\\envs\\aicc_pj02\\lib\\site-packages (from pydantic!=1.8,!=1.8.1,!=2.0.0,!=2.0.1,!=2.1.0,<3.0.0,>=1.7.4->fastapi) (0.7.0)\n",
      "Requirement already satisfied: pydantic-core==2.23.1 in c:\\conda\\envs\\aicc_pj02\\lib\\site-packages (from pydantic!=1.8,!=1.8.1,!=2.0.0,!=2.0.1,!=2.1.0,<3.0.0,>=1.7.4->fastapi) (2.23.1)\n",
      "Requirement already satisfied: tzdata in c:\\conda\\envs\\aicc_pj02\\lib\\site-packages (from pydantic!=1.8,!=1.8.1,!=2.0.0,!=2.0.1,!=2.1.0,<3.0.0,>=1.7.4->fastapi) (2024.1)\n",
      "Requirement already satisfied: anyio<5,>=3.4.0 in c:\\conda\\envs\\aicc_pj02\\lib\\site-packages (from starlette<0.39.0,>=0.37.2->fastapi) (4.4.0)\n",
      "Requirement already satisfied: idna>=2.8 in c:\\conda\\envs\\aicc_pj02\\lib\\site-packages (from anyio<5,>=3.4.0->starlette<0.39.0,>=0.37.2->fastapi) (3.8)\n",
      "Requirement already satisfied: sniffio>=1.1 in c:\\conda\\envs\\aicc_pj02\\lib\\site-packages (from anyio<5,>=3.4.0->starlette<0.39.0,>=0.37.2->fastapi) (1.3.1)\n"
     ]
    }
   ],
   "source": [
    "!pip install fastapi"
   ]
  },
  {
   "cell_type": "code",
   "execution_count": 1,
   "metadata": {},
   "outputs": [
    {
     "name": "stdout",
     "output_type": "stream",
     "text": [
      "Requirement already satisfied: langchain in c:\\conda\\envs\\aicc_pj02\\lib\\site-packages (0.3.6)\n",
      "Requirement already satisfied: langchain-core in c:\\conda\\envs\\aicc_pj02\\lib\\site-packages (0.3.14)\n",
      "Requirement already satisfied: langchain-openai in c:\\conda\\envs\\aicc_pj02\\lib\\site-packages (0.2.4)\n",
      "Requirement already satisfied: langchain-community in c:\\conda\\envs\\aicc_pj02\\lib\\site-packages (0.2.15)\n",
      "Collecting langchain-community\n",
      "  Downloading langchain_community-0.3.4-py3-none-any.whl.metadata (2.9 kB)\n",
      "Requirement already satisfied: PyYAML>=5.3 in c:\\conda\\envs\\aicc_pj02\\lib\\site-packages (from langchain) (6.0.2)\n",
      "Requirement already satisfied: SQLAlchemy<3,>=1.4 in c:\\conda\\envs\\aicc_pj02\\lib\\site-packages (from langchain) (2.0.32)\n",
      "Requirement already satisfied: aiohttp<4.0.0,>=3.8.3 in c:\\conda\\envs\\aicc_pj02\\lib\\site-packages (from langchain) (3.10.5)\n",
      "Requirement already satisfied: langchain-text-splitters<0.4.0,>=0.3.0 in c:\\conda\\envs\\aicc_pj02\\lib\\site-packages (from langchain) (0.3.1)\n",
      "Requirement already satisfied: langsmith<0.2.0,>=0.1.17 in c:\\conda\\envs\\aicc_pj02\\lib\\site-packages (from langchain) (0.1.138)\n",
      "Requirement already satisfied: numpy<2,>=1 in c:\\conda\\envs\\aicc_pj02\\lib\\site-packages (from langchain) (1.26.4)\n",
      "Requirement already satisfied: pydantic<3.0.0,>=2.7.4 in c:\\conda\\envs\\aicc_pj02\\lib\\site-packages (from langchain) (2.9.0b2)\n",
      "Requirement already satisfied: requests<3,>=2 in c:\\conda\\envs\\aicc_pj02\\lib\\site-packages (from langchain) (2.32.3)\n",
      "Requirement already satisfied: tenacity!=8.4.0,<10,>=8.1.0 in c:\\conda\\envs\\aicc_pj02\\lib\\site-packages (from langchain) (8.3.0)\n",
      "Requirement already satisfied: jsonpatch<2.0,>=1.33 in c:\\conda\\envs\\aicc_pj02\\lib\\site-packages (from langchain-core) (1.33)\n",
      "Requirement already satisfied: packaging<25,>=23.2 in c:\\conda\\envs\\aicc_pj02\\lib\\site-packages (from langchain-core) (24.1)\n",
      "Requirement already satisfied: typing-extensions>=4.7 in c:\\conda\\envs\\aicc_pj02\\lib\\site-packages (from langchain-core) (4.12.2)\n",
      "Requirement already satisfied: openai<2.0.0,>=1.52.0 in c:\\conda\\envs\\aicc_pj02\\lib\\site-packages (from langchain-openai) (1.53.0)\n",
      "Requirement already satisfied: tiktoken<1,>=0.7 in c:\\conda\\envs\\aicc_pj02\\lib\\site-packages (from langchain-openai) (0.7.0)\n",
      "Requirement already satisfied: dataclasses-json<0.7,>=0.5.7 in c:\\conda\\envs\\aicc_pj02\\lib\\site-packages (from langchain-community) (0.6.7)\n",
      "Requirement already satisfied: httpx-sse<0.5.0,>=0.4.0 in c:\\conda\\envs\\aicc_pj02\\lib\\site-packages (from langchain-community) (0.4.0)\n",
      "Requirement already satisfied: pydantic-settings<3.0.0,>=2.4.0 in c:\\conda\\envs\\aicc_pj02\\lib\\site-packages (from langchain-community) (2.6.0)\n",
      "Requirement already satisfied: aiohappyeyeballs>=2.3.0 in c:\\conda\\envs\\aicc_pj02\\lib\\site-packages (from aiohttp<4.0.0,>=3.8.3->langchain) (2.4.0)\n",
      "Requirement already satisfied: aiosignal>=1.1.2 in c:\\conda\\envs\\aicc_pj02\\lib\\site-packages (from aiohttp<4.0.0,>=3.8.3->langchain) (1.3.1)\n",
      "Requirement already satisfied: attrs>=17.3.0 in c:\\conda\\envs\\aicc_pj02\\lib\\site-packages (from aiohttp<4.0.0,>=3.8.3->langchain) (24.2.0)\n",
      "Requirement already satisfied: frozenlist>=1.1.1 in c:\\conda\\envs\\aicc_pj02\\lib\\site-packages (from aiohttp<4.0.0,>=3.8.3->langchain) (1.4.1)\n",
      "Requirement already satisfied: multidict<7.0,>=4.5 in c:\\conda\\envs\\aicc_pj02\\lib\\site-packages (from aiohttp<4.0.0,>=3.8.3->langchain) (6.0.5)\n",
      "Requirement already satisfied: yarl<2.0,>=1.0 in c:\\conda\\envs\\aicc_pj02\\lib\\site-packages (from aiohttp<4.0.0,>=3.8.3->langchain) (1.9.6)\n",
      "Requirement already satisfied: marshmallow<4.0.0,>=3.18.0 in c:\\conda\\envs\\aicc_pj02\\lib\\site-packages (from dataclasses-json<0.7,>=0.5.7->langchain-community) (3.22.0)\n",
      "Requirement already satisfied: typing-inspect<1,>=0.4.0 in c:\\conda\\envs\\aicc_pj02\\lib\\site-packages (from dataclasses-json<0.7,>=0.5.7->langchain-community) (0.9.0)\n",
      "Requirement already satisfied: jsonpointer>=1.9 in c:\\conda\\envs\\aicc_pj02\\lib\\site-packages (from jsonpatch<2.0,>=1.33->langchain-core) (3.0.0)\n",
      "Requirement already satisfied: httpx<1,>=0.23.0 in c:\\conda\\envs\\aicc_pj02\\lib\\site-packages (from langsmith<0.2.0,>=0.1.17->langchain) (0.27.2)\n",
      "Requirement already satisfied: orjson<4.0.0,>=3.9.14 in c:\\conda\\envs\\aicc_pj02\\lib\\site-packages (from langsmith<0.2.0,>=0.1.17->langchain) (3.10.7)\n",
      "Requirement already satisfied: requests-toolbelt<2.0.0,>=1.0.0 in c:\\conda\\envs\\aicc_pj02\\lib\\site-packages (from langsmith<0.2.0,>=0.1.17->langchain) (1.0.0)\n",
      "Requirement already satisfied: anyio<5,>=3.5.0 in c:\\conda\\envs\\aicc_pj02\\lib\\site-packages (from openai<2.0.0,>=1.52.0->langchain-openai) (4.4.0)\n",
      "Requirement already satisfied: distro<2,>=1.7.0 in c:\\conda\\envs\\aicc_pj02\\lib\\site-packages (from openai<2.0.0,>=1.52.0->langchain-openai) (1.9.0)\n",
      "Requirement already satisfied: jiter<1,>=0.4.0 in c:\\conda\\envs\\aicc_pj02\\lib\\site-packages (from openai<2.0.0,>=1.52.0->langchain-openai) (0.5.0)\n",
      "Requirement already satisfied: sniffio in c:\\conda\\envs\\aicc_pj02\\lib\\site-packages (from openai<2.0.0,>=1.52.0->langchain-openai) (1.3.1)\n",
      "Requirement already satisfied: tqdm>4 in c:\\conda\\envs\\aicc_pj02\\lib\\site-packages (from openai<2.0.0,>=1.52.0->langchain-openai) (4.66.5)\n",
      "Requirement already satisfied: annotated-types>=0.4.0 in c:\\conda\\envs\\aicc_pj02\\lib\\site-packages (from pydantic<3.0.0,>=2.7.4->langchain) (0.7.0)\n",
      "Requirement already satisfied: pydantic-core==2.23.1 in c:\\conda\\envs\\aicc_pj02\\lib\\site-packages (from pydantic<3.0.0,>=2.7.4->langchain) (2.23.1)\n",
      "Requirement already satisfied: tzdata in c:\\conda\\envs\\aicc_pj02\\lib\\site-packages (from pydantic<3.0.0,>=2.7.4->langchain) (2024.1)\n",
      "Requirement already satisfied: python-dotenv>=0.21.0 in c:\\conda\\envs\\aicc_pj02\\lib\\site-packages (from pydantic-settings<3.0.0,>=2.4.0->langchain-community) (1.0.1)\n",
      "Requirement already satisfied: charset-normalizer<4,>=2 in c:\\conda\\envs\\aicc_pj02\\lib\\site-packages (from requests<3,>=2->langchain) (3.3.2)\n",
      "Requirement already satisfied: idna<4,>=2.5 in c:\\conda\\envs\\aicc_pj02\\lib\\site-packages (from requests<3,>=2->langchain) (3.8)\n",
      "Requirement already satisfied: urllib3<3,>=1.21.1 in c:\\conda\\envs\\aicc_pj02\\lib\\site-packages (from requests<3,>=2->langchain) (2.2.2)\n",
      "Requirement already satisfied: certifi>=2017.4.17 in c:\\conda\\envs\\aicc_pj02\\lib\\site-packages (from requests<3,>=2->langchain) (2024.8.30)\n",
      "Requirement already satisfied: greenlet!=0.4.17 in c:\\conda\\envs\\aicc_pj02\\lib\\site-packages (from SQLAlchemy<3,>=1.4->langchain) (3.0.3)\n",
      "Requirement already satisfied: regex>=2022.1.18 in c:\\conda\\envs\\aicc_pj02\\lib\\site-packages (from tiktoken<1,>=0.7->langchain-openai) (2024.7.24)\n",
      "Requirement already satisfied: httpcore==1.* in c:\\conda\\envs\\aicc_pj02\\lib\\site-packages (from httpx<1,>=0.23.0->langsmith<0.2.0,>=0.1.17->langchain) (1.0.5)\n",
      "Requirement already satisfied: h11<0.15,>=0.13 in c:\\conda\\envs\\aicc_pj02\\lib\\site-packages (from httpcore==1.*->httpx<1,>=0.23.0->langsmith<0.2.0,>=0.1.17->langchain) (0.14.0)\n",
      "Requirement already satisfied: colorama in c:\\conda\\envs\\aicc_pj02\\lib\\site-packages (from tqdm>4->openai<2.0.0,>=1.52.0->langchain-openai) (0.4.6)\n",
      "Requirement already satisfied: mypy-extensions>=0.3.0 in c:\\conda\\envs\\aicc_pj02\\lib\\site-packages (from typing-inspect<1,>=0.4.0->dataclasses-json<0.7,>=0.5.7->langchain-community) (1.0.0)\n",
      "Downloading langchain_community-0.3.4-py3-none-any.whl (2.4 MB)\n",
      "   ---------------------------------------- 0.0/2.4 MB ? eta -:--:--\n",
      "   ---------------------------------------- 2.4/2.4 MB 27.2 MB/s eta 0:00:00\n",
      "Installing collected packages: langchain-community\n",
      "  Attempting uninstall: langchain-community\n",
      "    Found existing installation: langchain-community 0.2.15\n",
      "    Uninstalling langchain-community-0.2.15:\n",
      "      Successfully uninstalled langchain-community-0.2.15\n",
      "Successfully installed langchain-community-0.3.4\n"
     ]
    },
    {
     "name": "stderr",
     "output_type": "stream",
     "text": [
      "ERROR: pip's dependency resolver does not currently take into account all the packages that are installed. This behaviour is the source of the following dependency conflicts.\n",
      "langchain-experimental 0.0.61 requires langchain-community<0.3.0,>=0.2.5, but you have langchain-community 0.3.4 which is incompatible.\n",
      "langchain-experimental 0.0.61 requires langchain-core<0.3.0,>=0.2.7, but you have langchain-core 0.3.14 which is incompatible.\n"
     ]
    }
   ],
   "source": [
    "!pip install --upgrade langchain langchain-core langchain-openai langchain-community"
   ]
  },
  {
   "cell_type": "code",
   "execution_count": null,
   "metadata": {},
   "outputs": [],
   "source": []
  }
 ],
 "metadata": {
  "kernelspec": {
   "display_name": "aicc_pj02",
   "language": "python",
   "name": "python3"
  },
  "language_info": {
   "codemirror_mode": {
    "name": "ipython",
    "version": 3
   },
   "file_extension": ".py",
   "mimetype": "text/x-python",
   "name": "python",
   "nbconvert_exporter": "python",
   "pygments_lexer": "ipython3",
   "version": "3.11.10"
  }
 },
 "nbformat": 4,
 "nbformat_minor": 2
}
